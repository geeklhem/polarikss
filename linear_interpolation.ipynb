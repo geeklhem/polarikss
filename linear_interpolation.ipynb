{
 "metadata": {
  "name": ""
 },
 "nbformat": 3,
 "nbformat_minor": 0,
 "worksheets": [
  {
   "cells": [
    {
     "cell_type": "code",
     "collapsed": false,
     "input": [
      "import numpy as np\n",
      "import pandas \n",
      "import matplotlib.pyplot as plt\n",
      "%matplotlib inline\n",
      "%cd data/\n",
      "flow = pandas.read_table(\"flow-myosin-um-per-min.txt\",header=None)"
     ],
     "language": "python",
     "metadata": {},
     "outputs": [
      {
       "output_type": "stream",
       "stream": "stdout",
       "text": [
        "/home/guilhem/projects/polarity/polarikss/data\n"
       ]
      }
     ],
     "prompt_number": 2
    },
    {
     "cell_type": "code",
     "collapsed": false,
     "input": [
      "def interpolate(data,new_row_nb):\n",
      "    \"\"\" Linearly Interpolate the matrix by adding rows\n",
      "    \n",
      "    Args:\n",
      "        data (np.array): A timexSpace array\n",
      "        new_number_row (int): New number of rows\n",
      "        \n",
      "    Returns:\n",
      "        (np.array): with new_number_row lines\n",
      "    \n",
      "    \"\"\"\n",
      "    if new_row_nb <= data.shape[0]:\n",
      "        # nothing to do !\n",
      "        return  data\n",
      "    else: \n",
      "        pass "
     ],
     "language": "python",
     "metadata": {},
     "outputs": []
    }
   ],
   "metadata": {}
  }
 ]
}